{
 "cells": [
  {
   "cell_type": "code",
   "execution_count": 1,
   "id": "dd9e8a22-d456-480c-8632-f535d721ba6d",
   "metadata": {},
   "outputs": [],
   "source": [
    "Players_runs=[(\"Sachin Tendulkar\",34357),(\"Ricky Ponting\",27483),(\"Jack Kallis\",25534),(\"Virat Kohli\",24936)]"
   ]
  },
  {
   "cell_type": "code",
   "execution_count": 6,
   "id": "f4cb364e-2922-4126-b458-4338d765b6b2",
   "metadata": {},
   "outputs": [],
   "source": [
    "Players_runs.sort(key=lambda x:x[1])"
   ]
  },
  {
   "cell_type": "code",
   "execution_count": 7,
   "id": "e88d079e-ae21-4068-868a-1adf69994747",
   "metadata": {},
   "outputs": [
    {
     "data": {
      "text/plain": [
       "[('Virat Kohli', 24936),\n",
       " ('Jack Kallis', 25534),\n",
       " ('Ricky Ponting', 27483),\n",
       " ('Sachin Tendulkar', 34357)]"
      ]
     },
     "execution_count": 7,
     "metadata": {},
     "output_type": "execute_result"
    }
   ],
   "source": [
    "Players_runs"
   ]
  },
  {
   "cell_type": "code",
   "execution_count": 8,
   "id": "9bbedc36-b074-4992-9b71-a0c87c4b4e32",
   "metadata": {},
   "outputs": [],
   "source": [
    "Num=[1,2,3,4,5,6,7,8,9,10]"
   ]
  },
  {
   "cell_type": "code",
   "execution_count": 11,
   "id": "e461e4f8-9b23-4a68-8824-69b10ad08e82",
   "metadata": {},
   "outputs": [],
   "source": [
    "Squared_Num=list(map(lambda x:x**2,Num))"
   ]
  },
  {
   "cell_type": "code",
   "execution_count": 12,
   "id": "18070d40-9ec1-44d8-bea2-fde99f4d3b78",
   "metadata": {},
   "outputs": [
    {
     "data": {
      "text/plain": [
       "[1, 4, 9, 16, 25, 36, 49, 64, 81, 100]"
      ]
     },
     "execution_count": 12,
     "metadata": {},
     "output_type": "execute_result"
    }
   ],
   "source": [
    "Squared_Num"
   ]
  },
  {
   "cell_type": "code",
   "execution_count": 13,
   "id": "e733081d-ab7c-451a-bf44-c96584e4ff2f",
   "metadata": {},
   "outputs": [],
   "source": [
    "L=[1,2,3,4,5,6,7,8,9,10]"
   ]
  },
  {
   "cell_type": "code",
   "execution_count": 15,
   "id": "a9c622de-5b77-42ce-a79b-e75d3648d71a",
   "metadata": {},
   "outputs": [],
   "source": [
    "T=tuple(map(lambda x: str(x),L))"
   ]
  },
  {
   "cell_type": "code",
   "execution_count": 16,
   "id": "4f18e6e6-8900-4512-8e7a-fef731df2ab2",
   "metadata": {},
   "outputs": [
    {
     "data": {
      "text/plain": [
       "('1', '2', '3', '4', '5', '6', '7', '8', '9', '10')"
      ]
     },
     "execution_count": 16,
     "metadata": {},
     "output_type": "execute_result"
    }
   ],
   "source": [
    "T"
   ]
  },
  {
   "cell_type": "code",
   "execution_count": 20,
   "id": "4bed7728-bb8a-42d0-8f44-cc2cbe543111",
   "metadata": {},
   "outputs": [],
   "source": [
    "l2=[]\n",
    "for i in range(1,26,1):\n",
    "    l2.append(i)"
   ]
  },
  {
   "cell_type": "code",
   "execution_count": 21,
   "id": "0fc8b68c-61ab-4594-bf8c-bc09a7f486b1",
   "metadata": {},
   "outputs": [
    {
     "data": {
      "text/plain": [
       "[1,\n",
       " 2,\n",
       " 3,\n",
       " 4,\n",
       " 5,\n",
       " 6,\n",
       " 7,\n",
       " 8,\n",
       " 9,\n",
       " 10,\n",
       " 11,\n",
       " 12,\n",
       " 13,\n",
       " 14,\n",
       " 15,\n",
       " 16,\n",
       " 17,\n",
       " 18,\n",
       " 19,\n",
       " 20,\n",
       " 21,\n",
       " 22,\n",
       " 23,\n",
       " 24,\n",
       " 25]"
      ]
     },
     "execution_count": 21,
     "metadata": {},
     "output_type": "execute_result"
    }
   ],
   "source": [
    "l2"
   ]
  },
  {
   "cell_type": "code",
   "execution_count": 22,
   "id": "59f7ad51-2ba3-4ee6-8e04-76702d1c28e1",
   "metadata": {},
   "outputs": [],
   "source": [
    "from functools import reduce"
   ]
  },
  {
   "cell_type": "code",
   "execution_count": 23,
   "id": "745b77d1-0035-4902-9191-20523b609b10",
   "metadata": {},
   "outputs": [
    {
     "name": "stdout",
     "output_type": "stream",
     "text": [
      "15511210043330985984000000\n"
     ]
    }
   ],
   "source": [
    "print(reduce(lambda x,y:x*y,l2))"
   ]
  },
  {
   "cell_type": "code",
   "execution_count": 24,
   "id": "a0e77335-45a0-448c-a1fd-64646a1b1166",
   "metadata": {},
   "outputs": [],
   "source": [
    "l3=[2,3,6,9,27,60,90,120,55,46]"
   ]
  },
  {
   "cell_type": "code",
   "execution_count": 31,
   "id": "8e1fbfd9-b784-4597-9af0-814fe32be5b6",
   "metadata": {},
   "outputs": [],
   "source": [
    "def divide(x):\n",
    "    if x % 6==0:\n",
    "        return x\n",
    "    "
   ]
  },
  {
   "cell_type": "code",
   "execution_count": 32,
   "id": "e470974e-8b39-4f24-b51b-41240bf90cc5",
   "metadata": {},
   "outputs": [],
   "source": [
    "l4=list(filter(divide,l3))"
   ]
  },
  {
   "cell_type": "code",
   "execution_count": 33,
   "id": "530ec9b5-85be-4176-9d7c-2b239cad9ea4",
   "metadata": {},
   "outputs": [
    {
     "data": {
      "text/plain": [
       "[6, 60, 90, 120]"
      ]
     },
     "execution_count": 33,
     "metadata": {},
     "output_type": "execute_result"
    }
   ],
   "source": [
    "l4"
   ]
  },
  {
   "cell_type": "code",
   "execution_count": 41,
   "id": "ed692a1d-ef16-43c4-9fe4-2ffbdce298ff",
   "metadata": {},
   "outputs": [],
   "source": [
    "str=[\"python\",\"php\",\"aba\",\"radar\",\"level\"]"
   ]
  },
  {
   "cell_type": "code",
   "execution_count": 47,
   "id": "63b1d599-ae06-4460-aeb1-65251264e6fe",
   "metadata": {},
   "outputs": [],
   "source": [
    "palindromes=list(filter(lambda x: x==x[::-1],str))\n"
   ]
  },
  {
   "cell_type": "code",
   "execution_count": 48,
   "id": "2bc508f1-2403-420b-9344-98270b90bd01",
   "metadata": {},
   "outputs": [
    {
     "data": {
      "text/plain": [
       "['php', 'aba', 'radar', 'level']"
      ]
     },
     "execution_count": 48,
     "metadata": {},
     "output_type": "execute_result"
    }
   ],
   "source": [
    "palindromes"
   ]
  },
  {
   "cell_type": "code",
   "execution_count": null,
   "id": "21725805-2e09-4559-ae8f-2731b50f6333",
   "metadata": {},
   "outputs": [],
   "source": []
  }
 ],
 "metadata": {
  "kernelspec": {
   "display_name": "Python 3 (ipykernel)",
   "language": "python",
   "name": "python3"
  },
  "language_info": {
   "codemirror_mode": {
    "name": "ipython",
    "version": 3
   },
   "file_extension": ".py",
   "mimetype": "text/x-python",
   "name": "python",
   "nbconvert_exporter": "python",
   "pygments_lexer": "ipython3",
   "version": "3.10.8"
  }
 },
 "nbformat": 4,
 "nbformat_minor": 5
}
